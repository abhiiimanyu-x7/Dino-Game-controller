{
 "cells": [
  {
   "cell_type": "code",
   "execution_count": null,
   "id": "30ae1e4f",
   "metadata": {},
   "outputs": [],
   "source": [
    "pip install opencv-python mediapipe pyautogui"
   ]
  },
  {
   "cell_type": "code",
   "execution_count": 1,
   "id": "20c86f00",
   "metadata": {},
   "outputs": [],
   "source": [
    "import cv2\n",
    "import mediapipe as mp\n",
    "import pyautogui\n",
    "\n",
    "# Initialize Mediapipe hands model\n",
    "mp_hands = mp.solutions.hands\n",
    "hands = mp_hands.Hands(max_num_hands=1, min_detection_confidence=0.7)\n",
    "mp_draw = mp.solutions.drawing_utils\n",
    "\n",
    "# Start the webcam feed\n",
    "cap = cv2.VideoCapture(0)\n",
    "\n",
    "\n",
    "while True:\n",
    "    ret, frame = cap.read()\n",
    "    if not ret:\n",
    "        break\n",
    "\n",
    "    frame = cv2.flip(frame, 1)\n",
    "    h, w, c = frame.shape\n",
    "    rgb_frame = cv2.cvtColor(frame, cv2.COLOR_BGR2RGB)\n",
    "    result = hands.process(rgb_frame)\n",
    "\n",
    "    if result.multi_hand_landmarks:\n",
    "        for hand_landmarks in result.multi_hand_landmarks:\n",
    "            mp_draw.draw_landmarks(frame, hand_landmarks, mp_hands.HAND_CONNECTIONS)\n",
    "\n",
    "            # Get coordinates of landmarks\n",
    "            thumb_tip = hand_landmarks.landmark[mp_hands.HandLandmark.THUMB_TIP]\n",
    "            index_finger_tip = hand_landmarks.landmark[mp_hands.HandLandmark.INDEX_FINGER_TIP]\n",
    "\n",
    "            # Convert normalized coordinates to pixel values\n",
    "            thumb_tip_x, thumb_tip_y = int(thumb_tip.x * w), int(thumb_tip.y * h)\n",
    "            index_finger_tip_x, index_finger_tip_y = int(index_finger_tip.x * w), int(index_finger_tip.y * h)\n",
    "\n",
    "            # Determine gesture for jumping\n",
    "            if index_finger_tip_y < thumb_tip_y - 40:\n",
    "                pyautogui.press('space')  # Simulate space key press to jump\n",
    "\n",
    "            # Determine gesture for ducking (e.g., hand closed)\n",
    "            if index_finger_tip_y > thumb_tip_y + 40:\n",
    "                pyautogui.keyDown('down')  # Simulate down key press to duck\n",
    "            else:\n",
    "                pyautogui.keyUp('down')\n",
    "\n",
    "    cv2.imshow('Dino Game Hand Control', frame)\n",
    "\n",
    "    if cv2.waitKey(1) & 0xFF == ord('q'):\n",
    "        break\n",
    "\n",
    "cap.release()\n",
    "cv2.destroyAllWindows()"
   ]
  },
  {
   "cell_type": "code",
   "execution_count": null,
   "id": "f6c2c98d",
   "metadata": {},
   "outputs": [],
   "source": []
  }
 ],
 "metadata": {
  "kernelspec": {
   "display_name": "Python 3 (ipykernel)",
   "language": "python",
   "name": "python3"
  },
  "language_info": {
   "codemirror_mode": {
    "name": "ipython",
    "version": 3
   },
   "file_extension": ".py",
   "mimetype": "text/x-python",
   "name": "python",
   "nbconvert_exporter": "python",
   "pygments_lexer": "ipython3",
   "version": "3.11.4"
  }
 },
 "nbformat": 4,
 "nbformat_minor": 5
}
